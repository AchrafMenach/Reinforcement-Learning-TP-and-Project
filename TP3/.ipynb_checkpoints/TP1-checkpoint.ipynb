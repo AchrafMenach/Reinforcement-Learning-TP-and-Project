{
 "cells": [
  {
   "cell_type": "code",
   "execution_count": 4,
   "id": "9c23efa2-907c-44a0-b537-3419028dbb9d",
   "metadata": {},
   "outputs": [
    {
     "data": {
      "text/plain": [
       "(array([ 0.04464721,  0.0345175 , -0.04433359, -0.01188904], dtype=float32),\n",
       " {})"
      ]
     },
     "execution_count": 4,
     "metadata": {},
     "output_type": "execute_result"
    }
   ],
   "source": [
    "import gymnasium as gym\n",
    "\n",
    "env = gym.make(\"CartPole-v1\")\n",
    "env.reset()"
   ]
  },
  {
   "cell_type": "code",
   "execution_count": 3,
   "id": "4c1cce29-2473-4137-b4c8-a94540aa5dab",
   "metadata": {},
   "outputs": [
    {
     "name": "stdout",
     "output_type": "stream",
     "text": [
      "Espace d'actions : Discrete(2)\n",
      "Espace d'observations : Box([-4.8               -inf -0.41887903        -inf], [4.8               inf 0.41887903        inf], (4,), float32)\n"
     ]
    }
   ],
   "source": [
    "print(f\"Espace d'actions : {env.action_space}\")\n",
    "print(f\"Espace d'observations : {env.observation_space}\")"
   ]
  },
  {
   "cell_type": "code",
   "execution_count": 4,
   "id": "5433a014-fbd5-4ed2-8a56-f3f9113051e7",
   "metadata": {},
   "outputs": [
    {
     "name": "stdout",
     "output_type": "stream",
     "text": [
      "Action : 1, Observation : [ 0.0341159   0.1523752   0.02729792 -0.26341388], Reward : 1.0\n",
      "Action : 0, Observation : [ 0.0371634  -0.04312554  0.02202964  0.03775256], Reward : 1.0\n",
      "Action : 0, Observation : [ 0.03630089 -0.23855636  0.02278469  0.33730385], Reward : 1.0\n",
      "Action : 1, Observation : [ 0.03152977 -0.04376593  0.02953077  0.05189217], Reward : 1.0\n",
      "Action : 0, Observation : [ 0.03065445 -0.2392986   0.03056861  0.35374406], Reward : 1.0\n",
      "Action : 1, Observation : [ 0.02586848 -0.04462435  0.0376435   0.07085489], Reward : 1.0\n",
      "Action : 1, Observation : [ 0.02497599  0.14993827  0.03906059 -0.2097177 ], Reward : 1.0\n",
      "Action : 1, Observation : [ 0.02797475  0.34448057  0.03486624 -0.4898277 ], Reward : 1.0\n",
      "Action : 1, Observation : [ 0.03486437  0.53909373  0.02506968 -0.7713214 ], Reward : 1.0\n",
      "Action : 0, Observation : [ 0.04564624  0.34363595  0.00964326 -0.47085714], Reward : 1.0\n",
      "Action : 1, Observation : [ 5.2518960e-02  5.3862035e-01  2.2611269e-04 -7.6048511e-01], Reward : 1.0\n",
      "Action : 1, Observation : [ 0.06329136  0.7337392  -0.01498359 -1.0530969 ], Reward : 1.0\n",
      "Action : 0, Observation : [ 0.07796615  0.5388191  -0.03604553 -0.76515454], Reward : 1.0\n",
      "Action : 0, Observation : [ 0.08874253  0.34421155 -0.05134862 -0.48402795], Reward : 1.0\n",
      "Action : 1, Observation : [ 0.09562676  0.54001915 -0.06102918 -0.7924421 ], Reward : 1.0\n",
      "Action : 1, Observation : [ 0.10642715  0.73592347 -0.07687802 -1.103683  ], Reward : 1.0\n",
      "Action : 0, Observation : [ 0.12114561  0.54189223 -0.09895167 -0.83607554], Reward : 1.0\n",
      "Action : 1, Observation : [ 0.13198346  0.73821646 -0.11567318 -1.1581657 ], Reward : 1.0\n",
      "Action : 0, Observation : [ 0.14674778  0.5447762  -0.1388365  -0.9038765 ], Reward : 1.0\n",
      "Action : 1, Observation : [ 0.15764332  0.7414778  -0.15691403 -1.2367767 ], Reward : 1.0\n",
      "Action : 1, Observation : [ 0.17247286  0.9382286  -0.18164957 -1.5742208 ], Reward : 1.0\n",
      "Action : 1, Observation : [ 0.19123743  1.1349921  -0.21313398 -1.9176217 ], Reward : 1.0\n",
      "Action : 1, Observation : [-0.01404175  0.16812803 -0.01423449 -0.26885846], Reward : 1.0\n",
      "Action : 0, Observation : [-0.01067919 -0.02678793 -0.01961165  0.01930105], Reward : 1.0\n",
      "Action : 1, Observation : [-0.01121495  0.16860971 -0.01922563 -0.2795045 ], Reward : 1.0\n",
      "Action : 1, Observation : [-0.00784276  0.36400056 -0.02481572 -0.5781886 ], Reward : 1.0\n",
      "Action : 1, Observation : [-5.6274695e-04  5.5946136e-01 -3.6379497e-02 -8.7858462e-01], Reward : 1.0\n",
      "Action : 1, Observation : [ 0.01062648  0.7550583  -0.05395119 -1.182479  ], Reward : 1.0\n",
      "Action : 0, Observation : [ 0.02572765  0.56067634 -0.07760077 -0.90718436], Reward : 1.0\n",
      "Action : 1, Observation : [ 0.03694117  0.7567583  -0.09574445 -1.2232139 ], Reward : 1.0\n",
      "Action : 1, Observation : [ 0.05207634  0.9529742  -0.12020873 -1.5442957 ], Reward : 1.0\n",
      "Action : 0, Observation : [ 0.07113582  0.75948423 -0.15109465 -1.2914114 ], Reward : 1.0\n",
      "Action : 1, Observation : [ 0.08632551  0.9561693  -0.17692287 -1.6273308 ], Reward : 1.0\n",
      "Action : 1, Observation : [ 0.10544889  1.1528754  -0.2094695  -1.9695284 ], Reward : 1.0\n",
      "Action : 1, Observation : [-0.00119815  0.22505149 -0.03119821 -0.27229768], Reward : 1.0\n",
      "Action : 1, Observation : [ 0.00330288  0.4206044  -0.03664417 -0.5746551 ], Reward : 1.0\n",
      "Action : 0, Observation : [ 0.01171497  0.22601481 -0.04813727 -0.29373762], Reward : 1.0\n",
      "Action : 0, Observation : [ 0.01623526  0.03161104 -0.05401202 -0.01661666], Reward : 1.0\n",
      "Action : 1, Observation : [ 0.01686748  0.22746432 -0.05434436 -0.32583997], Reward : 1.0\n",
      "Action : 0, Observation : [ 0.02141677  0.03315653 -0.06086116 -0.05077795], Reward : 1.0\n",
      "Action : 1, Observation : [ 0.0220799   0.22909598 -0.06187671 -0.36202508], Reward : 1.0\n",
      "Action : 1, Observation : [ 0.02666182  0.42504033 -0.06911722 -0.6735593 ], Reward : 1.0\n",
      "Action : 0, Observation : [ 0.03516263  0.23094364 -0.0825884  -0.40341368], Reward : 1.0\n",
      "Action : 0, Observation : [ 0.0397815   0.03708418 -0.09065668 -0.13786905], Reward : 1.0\n",
      "Action : 1, Observation : [ 0.04052318  0.23337977 -0.09341405 -0.45771986], Reward : 1.0\n",
      "Action : 0, Observation : [ 0.04519078  0.03969398 -0.10256846 -0.19588166], Reward : 1.0\n",
      "Action : 1, Observation : [ 0.04598466  0.2361221  -0.10648608 -0.51907766], Reward : 1.0\n",
      "Action : 0, Observation : [ 0.0507071   0.04264779 -0.11686764 -0.26175776], Reward : 1.0\n",
      "Action : 0, Observation : [ 0.05156006 -0.15062885 -0.1221028  -0.00810132], Reward : 1.0\n",
      "Action : 0, Observation : [ 0.04854748 -0.34380734 -0.12226482  0.24369991], Reward : 1.0\n",
      "Action : 0, Observation : [ 0.04167133 -0.53699005 -0.11739082  0.49545446], Reward : 1.0\n",
      "Action : 1, Observation : [ 0.03093153 -0.3404253  -0.10748173  0.16820292], Reward : 1.0\n",
      "Action : 1, Observation : [ 0.02412302 -0.14394218 -0.10411768 -0.15635988], Reward : 1.0\n",
      "Action : 0, Observation : [ 0.02124418 -0.33743125 -0.10724487  0.1017467 ], Reward : 1.0\n",
      "Action : 0, Observation : [ 0.01449556 -0.53086585 -0.10520994  0.358762  ], Reward : 1.0\n",
      "Action : 1, Observation : [ 0.00387824 -0.33441785 -0.09803469  0.0348447 ], Reward : 1.0\n",
      "Action : 1, Observation : [-0.00281012 -0.1380367  -0.0973378  -0.28708866], Reward : 1.0\n",
      "Action : 1, Observation : [-0.00557085  0.0583289  -0.10307958 -0.60881495], Reward : 1.0\n",
      "Action : 1, Observation : [-0.00440427  0.25472936 -0.11525588 -0.93210363], Reward : 1.0\n",
      "Action : 0, Observation : [ 0.00069031  0.0613354  -0.13389795 -0.6777476 ], Reward : 1.0\n",
      "Action : 0, Observation : [ 0.00191702 -0.13169722 -0.1474529  -0.43003887], Reward : 1.0\n",
      "Action : 1, Observation : [-7.1692403e-04  6.5171450e-02 -1.5605368e-01 -7.6533163e-01], Reward : 1.0\n",
      "Action : 1, Observation : [ 5.8650493e-04  2.6205847e-01 -1.7136031e-01 -1.1027672e+00], Reward : 1.0\n",
      "Action : 0, Observation : [ 0.00582767  0.06955352 -0.19341566 -0.86837274], Reward : 1.0\n",
      "Action : 1, Observation : [ 0.00721874  0.2667063  -0.21078311 -1.2150979 ], Reward : 1.0\n",
      "Action : 1, Observation : [ 0.04975813  0.24426305 -0.03891813 -0.27400425], Reward : 1.0\n",
      "Action : 0, Observation : [ 0.05464339  0.04971739 -0.04439821  0.00615425], Reward : 1.0\n",
      "Action : 1, Observation : [ 0.05563774  0.24544702 -0.04427513 -0.30019966], Reward : 1.0\n",
      "Action : 1, Observation : [ 0.06054668  0.44117117 -0.05027913 -0.6065108 ], Reward : 1.0\n",
      "Action : 1, Observation : [ 0.0693701   0.6369588  -0.06240934 -0.9145969 ], Reward : 1.0\n",
      "Action : 0, Observation : [ 0.08210927  0.4427339  -0.08070128 -0.6421633 ], Reward : 1.0\n",
      "Action : 0, Observation : [ 0.09096395  0.24882409 -0.09354454 -0.3759456 ], Reward : 1.0\n",
      "Action : 1, Observation : [ 0.09594043  0.44514158 -0.10106345 -0.6965963 ], Reward : 1.0\n",
      "Action : 1, Observation : [ 0.10484327  0.64150906 -0.11499538 -1.0193067 ], Reward : 1.0\n",
      "Action : 0, Observation : [ 0.11767345  0.44809183 -0.13538152 -0.76483124], Reward : 1.0\n",
      "Action : 0, Observation : [ 0.12663528  0.25506806 -0.15067814 -0.5176256 ], Reward : 1.0\n",
      "Action : 1, Observation : [ 0.13173665  0.45195454 -0.16103065 -0.853741  ], Reward : 1.0\n",
      "Action : 0, Observation : [ 0.14077574  0.25935057 -0.17810547 -0.6157114 ], Reward : 1.0\n",
      "Action : 0, Observation : [ 0.14596274  0.06710524 -0.1904197  -0.38399166], Reward : 1.0\n",
      "Action : 1, Observation : [ 0.14730485  0.2643483  -0.19809954 -0.73015416], Reward : 1.0\n",
      "Action : 1, Observation : [ 0.15259182  0.46157622 -0.21270262 -1.0780711 ], Reward : 1.0\n",
      "Action : 0, Observation : [-0.04184454 -0.21396796  0.04355731  0.32777026], Reward : 1.0\n",
      "Action : 1, Observation : [-0.0461239  -0.01949232  0.05011272  0.04913526], Reward : 1.0\n",
      "Action : 0, Observation : [-0.04651375 -0.21529569  0.05109542  0.3571986 ], Reward : 1.0\n",
      "Action : 1, Observation : [-0.05081967 -0.02093599  0.05823939  0.08105503], Reward : 1.0\n",
      "Action : 0, Observation : [-0.05123838 -0.21684235  0.05986049  0.39152905], Reward : 1.0\n",
      "Action : 1, Observation : [-0.05557523 -0.02261875  0.06769107  0.11830395], Reward : 1.0\n",
      "Action : 1, Observation : [-0.05602761  0.17147133  0.07005715 -0.15227844], Reward : 1.0\n",
      "Action : 0, Observation : [-0.05259818 -0.02458019  0.06701159  0.16165742], Reward : 1.0\n",
      "Action : 0, Observation : [-0.05308978 -0.2205943   0.07024474  0.47470534], Reward : 1.0\n",
      "Action : 1, Observation : [-0.05750167 -0.02653097  0.07973884  0.20496319], Reward : 1.0\n",
      "Action : 0, Observation : [-0.05803229 -0.22269732  0.08383811  0.52169615], Reward : 1.0\n",
      "Action : 1, Observation : [-0.06248624 -0.02884933  0.09427202  0.25656497], Reward : 1.0\n",
      "Action : 1, Observation : [-0.06306322  0.16480911  0.09940333 -0.00495786], Reward : 1.0\n",
      "Action : 0, Observation : [-0.05976704 -0.03158753  0.09930417  0.31735933], Reward : 1.0\n",
      "Action : 1, Observation : [-0.06039879  0.16199012  0.10565136  0.05757083], Reward : 1.0\n",
      "Action : 0, Observation : [-0.05715899 -0.03447557  0.10680278  0.38162988], Reward : 1.0\n",
      "Action : 1, Observation : [-0.0578485   0.1589806   0.11443537  0.12443948], Reward : 1.0\n",
      "Action : 1, Observation : [-0.05466889  0.35229295  0.11692416 -0.1300619 ], Reward : 1.0\n",
      "Action : 1, Observation : [-0.04762303  0.54556274  0.11432292 -0.38368973], Reward : 1.0\n"
     ]
    }
   ],
   "source": [
    "for _ in range(100):\n",
    "    action = env.action_space.sample()\n",
    "    observation, reward, done, _, _ = env.step(action)\n",
    "    print(f\"Action : {action}, Observation : {observation}, Reward : {reward}\")\n",
    "    if done:\n",
    "        env.reset()\n",
    "\n",
    "env.close()"
   ]
  },
  {
   "cell_type": "code",
   "execution_count": 5,
   "id": "58fdf822-50ff-4870-bc5b-7682a49aca1a",
   "metadata": {},
   "outputs": [
    {
     "name": "stdout",
     "output_type": "stream",
     "text": [
      "Observation : [-0.03671177  0.7388917   0.10664913 -0.6382524 ], Reward : 1.0, Done : False\n"
     ]
    }
   ],
   "source": [
    "action = env.action_space.sample()\n",
    "observation, reward, done, _, _ = env.step(action)\n",
    "print(f\"Observation : {observation}, Reward : {reward}, Done : {done}\")"
   ]
  },
  {
   "cell_type": "code",
   "execution_count": null,
   "id": "4146d385-57c7-4fb3-b0a5-343a7aecfe02",
   "metadata": {},
   "outputs": [],
   "source": [
    "import gymnasium as gym\n",
    "\n",
    "env = gym.make(\"CartPole-v1\", render_mode=\"human\")\n",
    "env.reset()\n",
    "\n",
    "done = False\n",
    "total_steps = 0\n",
    "\n",
    "while not done:\n",
    "    action = int(input(\"Entrez une action (0 pour gauche, 1 pour droite) : \"))\n",
    "    \n",
    "    observation, reward, done, _, _ = env.step(action)\n",
    "    \n",
    "    print(f\"Observation : {observation}, Reward : {reward}, Done : {done}\")\n",
    "    \n",
    "    total_steps += 1\n",
    "\n",
    "print(f\"Épisode terminé en {total_steps} étapes\")\n",
    "\n",
    "env.close()"
   ]
  },
  {
   "cell_type": "code",
   "execution_count": 6,
   "id": "66294b10-c1bd-438b-acfe-13343a576257",
   "metadata": {},
   "outputs": [
    {
     "name": "stdout",
     "output_type": "stream",
     "text": [
      "Épisode 1 terminé en 38 étapes\n",
      "Épisode 2 terminé en 23 étapes\n",
      "Épisode 3 terminé en 32 étapes\n",
      "Épisode 4 terminé en 24 étapes\n",
      "Épisode 5 terminé en 19 étapes\n",
      "Épisode 6 terminé en 20 étapes\n",
      "Épisode 7 terminé en 12 étapes\n",
      "Épisode 8 terminé en 14 étapes\n",
      "Épisode 9 terminé en 10 étapes\n",
      "Épisode 10 terminé en 12 étapes\n",
      "Durée moyenne par épisode : 20.4 étapes\n"
     ]
    }
   ],
   "source": [
    "episodes = 10\n",
    "total_steps = 0\n",
    "\n",
    "for episode in range(episodes):\n",
    "    env.reset()\n",
    "    done = False\n",
    "    steps = 0\n",
    "\n",
    "    while not done:\n",
    "        action = env.action_space.sample()\n",
    "        observation, reward, done, _, _ = env.step(action)\n",
    "        steps += 1\n",
    "\n",
    "    total_steps += steps\n",
    "    print(f\"Épisode {episode + 1} terminé en {steps} étapes\")\n",
    "\n",
    "average_steps = total_steps / episodes\n",
    "print(f\"Durée moyenne par épisode : {average_steps} étapes\")"
   ]
  },
  {
   "cell_type": "code",
   "execution_count": 8,
   "id": "f46475e1-a423-49d0-b427-f8243039edb9",
   "metadata": {},
   "outputs": [
    {
     "name": "stdout",
     "output_type": "stream",
     "text": [
      "Épisode 1 terminé en 16 étapes\n",
      "Épisode 2 terminé en 21 étapes\n",
      "Épisode 3 terminé en 23 étapes\n",
      "Épisode 4 terminé en 17 étapes\n",
      "Épisode 5 terminé en 19 étapes\n",
      "Épisode 6 terminé en 21 étapes\n",
      "Épisode 7 terminé en 9 étapes\n",
      "Épisode 8 terminé en 21 étapes\n",
      "Épisode 9 terminé en 13 étapes\n",
      "Épisode 10 terminé en 10 étapes\n",
      "Durée moyenne par épisode : 17.0 étapes\n"
     ]
    }
   ],
   "source": [
    "import gymnasium as gym\n",
    "\n",
    "env = gym.make(\"CartPole-v1\", render_mode=\"human\")\n",
    "\n",
    "num_episodes = 10\n",
    "total_steps = 0\n",
    "\n",
    "for episode in range(num_episodes):\n",
    "    env.reset()\n",
    "    done = False\n",
    "    steps = 0\n",
    "\n",
    "    while not done:\n",
    "        action = env.action_space.sample()\n",
    "        \n",
    "        observation, reward, done, _, _ = env.step(action)\n",
    "        \n",
    "        steps += 1\n",
    "\n",
    "    total_steps += steps\n",
    "    print(f\"Épisode {episode + 1} terminé en {steps} étapes\")\n",
    "\n",
    "average_steps = total_steps / num_episodes\n",
    "print(f\"Durée moyenne par épisode : {average_steps} étapes\")\n",
    "env.close()"
   ]
  },
  {
   "cell_type": "code",
   "execution_count": null,
   "id": "6322f3a7-3bf5-4bdb-95de-3b01bfb9ef10",
   "metadata": {},
   "outputs": [],
   "source": []
  }
 ],
 "metadata": {
  "kernelspec": {
   "display_name": "Python 3 (ipykernel)",
   "language": "python",
   "name": "python3"
  },
  "language_info": {
   "codemirror_mode": {
    "name": "ipython",
    "version": 3
   },
   "file_extension": ".py",
   "mimetype": "text/x-python",
   "name": "python",
   "nbconvert_exporter": "python",
   "pygments_lexer": "ipython3",
   "version": "3.11.6"
  }
 },
 "nbformat": 4,
 "nbformat_minor": 5
}
